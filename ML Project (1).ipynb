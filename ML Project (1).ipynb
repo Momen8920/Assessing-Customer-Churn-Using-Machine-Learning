{
 "cells": [
  {
   "cell_type": "markdown",
   "id": "eb156bc4",
   "metadata": {},
   "source": [
    "The telecommunications (telecom) sector in India is rapidly changing, with more and more telecom businesses being created and many customers deciding to switch between providers.\n",
    "\n",
    "\"Churn\" refers to the process where customers or subscribers stop using a company's services or products. \n",
    "\n",
    "Understanding the factors that influence keeping a customer as a client in predicting churn is crucial for telecom companies to enhance their service quality and customer satisfaction. \n",
    "\n",
    "As the data scientist on this project, you aim to explore the intricate dynamics of customer behavior and demographics in the Indian telecom sector in predicting customer churn, utilizing two comprehensive datasets from four major telecom partners: Airtel, Reliance Jio, Vodafone, and BSNL:\n"
   ]
  },
  {
   "cell_type": "markdown",
   "id": "a4903cf2",
   "metadata": {},
   "source": [
    "\n",
    "\n",
    "\n",
    "* Load the two CSV files into separate DataFrames. Merge them into a DataFrame named churn_df. Calculate and print churn rate, and identify the categorical variables in churn_df."
   ]
  },
  {
   "cell_type": "code",
   "execution_count": 89,
   "id": "a41f6877",
   "metadata": {},
   "outputs": [],
   "source": [
    "#importing Libiries\n",
    "\n",
    "import pandas as pd \n",
    "import numpy as np \n",
    "import matplotlib.pyplot as plt \n",
    "import seaborn as sns \n",
    "sns.set_palette(\"magma\") \n",
    "sns.set_style(\"whitegrid\")\n",
    "from sklearn.preprocessing import StandardScaler, OneHotEncoder \n",
    "from sklearn.model_selection import train_test_split\n",
    "from sklearn.linear_model import LogisticRegression \n",
    "from sklearn.ensemble import RandomForestClassifier\n",
    "from sklearn.metrics import classification_report, confusion_matrix"
   ]
  },
  {
   "cell_type": "code",
   "execution_count": 90,
   "id": "b4aaeaa9",
   "metadata": {},
   "outputs": [],
   "source": [
    "# Load Datasets \n",
    " # demographics Dataset\n",
    "tel_demog= pd.read_csv(\"telecom_demographics.csv\") \n",
    "\n",
    "#useage Dataset\n",
    "tel_usea= pd.read_csv(\"telecom_usage.csv\") "
   ]
  },
  {
   "cell_type": "code",
   "execution_count": 4,
   "id": "9424cd82",
   "metadata": {},
   "outputs": [
    {
     "data": {
      "text/html": [
       "<div>\n",
       "<style scoped>\n",
       "    .dataframe tbody tr th:only-of-type {\n",
       "        vertical-align: middle;\n",
       "    }\n",
       "\n",
       "    .dataframe tbody tr th {\n",
       "        vertical-align: top;\n",
       "    }\n",
       "\n",
       "    .dataframe thead th {\n",
       "        text-align: right;\n",
       "    }\n",
       "</style>\n",
       "<table border=\"1\" class=\"dataframe\">\n",
       "  <thead>\n",
       "    <tr style=\"text-align: right;\">\n",
       "      <th></th>\n",
       "      <th>customer_id</th>\n",
       "      <th>telecom_partner</th>\n",
       "      <th>gender</th>\n",
       "      <th>age</th>\n",
       "      <th>state</th>\n",
       "      <th>city</th>\n",
       "      <th>pincode</th>\n",
       "      <th>registration_event</th>\n",
       "      <th>num_dependents</th>\n",
       "      <th>estimated_salary</th>\n",
       "    </tr>\n",
       "  </thead>\n",
       "  <tbody>\n",
       "    <tr>\n",
       "      <th>0</th>\n",
       "      <td>15169</td>\n",
       "      <td>Airtel</td>\n",
       "      <td>F</td>\n",
       "      <td>26</td>\n",
       "      <td>Himachal Pradesh</td>\n",
       "      <td>Delhi</td>\n",
       "      <td>667173</td>\n",
       "      <td>2020-03-16</td>\n",
       "      <td>4</td>\n",
       "      <td>85979</td>\n",
       "    </tr>\n",
       "    <tr>\n",
       "      <th>1</th>\n",
       "      <td>149207</td>\n",
       "      <td>Airtel</td>\n",
       "      <td>F</td>\n",
       "      <td>74</td>\n",
       "      <td>Uttarakhand</td>\n",
       "      <td>Hyderabad</td>\n",
       "      <td>313997</td>\n",
       "      <td>2022-01-16</td>\n",
       "      <td>0</td>\n",
       "      <td>69445</td>\n",
       "    </tr>\n",
       "    <tr>\n",
       "      <th>2</th>\n",
       "      <td>148119</td>\n",
       "      <td>Airtel</td>\n",
       "      <td>F</td>\n",
       "      <td>54</td>\n",
       "      <td>Jharkhand</td>\n",
       "      <td>Chennai</td>\n",
       "      <td>549925</td>\n",
       "      <td>2022-01-11</td>\n",
       "      <td>2</td>\n",
       "      <td>75949</td>\n",
       "    </tr>\n",
       "    <tr>\n",
       "      <th>3</th>\n",
       "      <td>187288</td>\n",
       "      <td>Reliance Jio</td>\n",
       "      <td>M</td>\n",
       "      <td>29</td>\n",
       "      <td>Bihar</td>\n",
       "      <td>Hyderabad</td>\n",
       "      <td>230636</td>\n",
       "      <td>2022-07-26</td>\n",
       "      <td>3</td>\n",
       "      <td>34272</td>\n",
       "    </tr>\n",
       "    <tr>\n",
       "      <th>4</th>\n",
       "      <td>14016</td>\n",
       "      <td>Vodafone</td>\n",
       "      <td>M</td>\n",
       "      <td>45</td>\n",
       "      <td>Nagaland</td>\n",
       "      <td>Bangalore</td>\n",
       "      <td>188036</td>\n",
       "      <td>2020-03-11</td>\n",
       "      <td>4</td>\n",
       "      <td>34157</td>\n",
       "    </tr>\n",
       "  </tbody>\n",
       "</table>\n",
       "</div>"
      ],
      "text/plain": [
       "   customer_id telecom_partner gender  age             state       city  \\\n",
       "0        15169          Airtel      F   26  Himachal Pradesh      Delhi   \n",
       "1       149207          Airtel      F   74       Uttarakhand  Hyderabad   \n",
       "2       148119          Airtel      F   54         Jharkhand    Chennai   \n",
       "3       187288    Reliance Jio      M   29             Bihar  Hyderabad   \n",
       "4        14016        Vodafone      M   45          Nagaland  Bangalore   \n",
       "\n",
       "   pincode registration_event  num_dependents  estimated_salary  \n",
       "0   667173         2020-03-16               4             85979  \n",
       "1   313997         2022-01-16               0             69445  \n",
       "2   549925         2022-01-11               2             75949  \n",
       "3   230636         2022-07-26               3             34272  \n",
       "4   188036         2020-03-11               4             34157  "
      ]
     },
     "execution_count": 4,
     "metadata": {},
     "output_type": "execute_result"
    }
   ],
   "source": [
    "#first five rows \"demographics dataset\"\n",
    " \n",
    "tel_demog.head()"
   ]
  },
  {
   "cell_type": "code",
   "execution_count": 91,
   "id": "0f7456ce",
   "metadata": {},
   "outputs": [
    {
     "data": {
      "text/html": [
       "<div>\n",
       "<style scoped>\n",
       "    .dataframe tbody tr th:only-of-type {\n",
       "        vertical-align: middle;\n",
       "    }\n",
       "\n",
       "    .dataframe tbody tr th {\n",
       "        vertical-align: top;\n",
       "    }\n",
       "\n",
       "    .dataframe thead th {\n",
       "        text-align: right;\n",
       "    }\n",
       "</style>\n",
       "<table border=\"1\" class=\"dataframe\">\n",
       "  <thead>\n",
       "    <tr style=\"text-align: right;\">\n",
       "      <th></th>\n",
       "      <th>customer_id</th>\n",
       "      <th>calls_made</th>\n",
       "      <th>sms_sent</th>\n",
       "      <th>data_used</th>\n",
       "      <th>churn</th>\n",
       "    </tr>\n",
       "  </thead>\n",
       "  <tbody>\n",
       "    <tr>\n",
       "      <th>0</th>\n",
       "      <td>15169</td>\n",
       "      <td>75</td>\n",
       "      <td>21</td>\n",
       "      <td>4532</td>\n",
       "      <td>1</td>\n",
       "    </tr>\n",
       "    <tr>\n",
       "      <th>1</th>\n",
       "      <td>149207</td>\n",
       "      <td>35</td>\n",
       "      <td>38</td>\n",
       "      <td>723</td>\n",
       "      <td>1</td>\n",
       "    </tr>\n",
       "    <tr>\n",
       "      <th>2</th>\n",
       "      <td>148119</td>\n",
       "      <td>70</td>\n",
       "      <td>47</td>\n",
       "      <td>4688</td>\n",
       "      <td>1</td>\n",
       "    </tr>\n",
       "    <tr>\n",
       "      <th>3</th>\n",
       "      <td>187288</td>\n",
       "      <td>95</td>\n",
       "      <td>32</td>\n",
       "      <td>10241</td>\n",
       "      <td>1</td>\n",
       "    </tr>\n",
       "    <tr>\n",
       "      <th>4</th>\n",
       "      <td>14016</td>\n",
       "      <td>66</td>\n",
       "      <td>23</td>\n",
       "      <td>5246</td>\n",
       "      <td>1</td>\n",
       "    </tr>\n",
       "  </tbody>\n",
       "</table>\n",
       "</div>"
      ],
      "text/plain": [
       "   customer_id  calls_made  sms_sent  data_used  churn\n",
       "0        15169          75        21       4532      1\n",
       "1       149207          35        38        723      1\n",
       "2       148119          70        47       4688      1\n",
       "3       187288          95        32      10241      1\n",
       "4        14016          66        23       5246      1"
      ]
     },
     "execution_count": 91,
     "metadata": {},
     "output_type": "execute_result"
    }
   ],
   "source": [
    "# first five rows \"useage Dataset\"\n",
    "tel_usea.head()"
   ]
  },
  {
   "cell_type": "code",
   "execution_count": 92,
   "id": "7e907e73",
   "metadata": {
    "scrolled": false
   },
   "outputs": [
    {
     "data": {
      "text/html": [
       "<div>\n",
       "<style scoped>\n",
       "    .dataframe tbody tr th:only-of-type {\n",
       "        vertical-align: middle;\n",
       "    }\n",
       "\n",
       "    .dataframe tbody tr th {\n",
       "        vertical-align: top;\n",
       "    }\n",
       "\n",
       "    .dataframe thead th {\n",
       "        text-align: right;\n",
       "    }\n",
       "</style>\n",
       "<table border=\"1\" class=\"dataframe\">\n",
       "  <thead>\n",
       "    <tr style=\"text-align: right;\">\n",
       "      <th></th>\n",
       "      <th>customer_id</th>\n",
       "      <th>telecom_partner</th>\n",
       "      <th>gender</th>\n",
       "      <th>age</th>\n",
       "      <th>state</th>\n",
       "      <th>city</th>\n",
       "      <th>pincode</th>\n",
       "      <th>registration_event</th>\n",
       "      <th>num_dependents</th>\n",
       "      <th>estimated_salary</th>\n",
       "      <th>calls_made</th>\n",
       "      <th>sms_sent</th>\n",
       "      <th>data_used</th>\n",
       "      <th>churn</th>\n",
       "    </tr>\n",
       "  </thead>\n",
       "  <tbody>\n",
       "    <tr>\n",
       "      <th>0</th>\n",
       "      <td>15169</td>\n",
       "      <td>Airtel</td>\n",
       "      <td>F</td>\n",
       "      <td>26</td>\n",
       "      <td>Himachal Pradesh</td>\n",
       "      <td>Delhi</td>\n",
       "      <td>667173</td>\n",
       "      <td>2020-03-16</td>\n",
       "      <td>4</td>\n",
       "      <td>85979</td>\n",
       "      <td>75</td>\n",
       "      <td>21</td>\n",
       "      <td>4532</td>\n",
       "      <td>1</td>\n",
       "    </tr>\n",
       "    <tr>\n",
       "      <th>1</th>\n",
       "      <td>149207</td>\n",
       "      <td>Airtel</td>\n",
       "      <td>F</td>\n",
       "      <td>74</td>\n",
       "      <td>Uttarakhand</td>\n",
       "      <td>Hyderabad</td>\n",
       "      <td>313997</td>\n",
       "      <td>2022-01-16</td>\n",
       "      <td>0</td>\n",
       "      <td>69445</td>\n",
       "      <td>35</td>\n",
       "      <td>38</td>\n",
       "      <td>723</td>\n",
       "      <td>1</td>\n",
       "    </tr>\n",
       "    <tr>\n",
       "      <th>2</th>\n",
       "      <td>148119</td>\n",
       "      <td>Airtel</td>\n",
       "      <td>F</td>\n",
       "      <td>54</td>\n",
       "      <td>Jharkhand</td>\n",
       "      <td>Chennai</td>\n",
       "      <td>549925</td>\n",
       "      <td>2022-01-11</td>\n",
       "      <td>2</td>\n",
       "      <td>75949</td>\n",
       "      <td>70</td>\n",
       "      <td>47</td>\n",
       "      <td>4688</td>\n",
       "      <td>1</td>\n",
       "    </tr>\n",
       "    <tr>\n",
       "      <th>3</th>\n",
       "      <td>187288</td>\n",
       "      <td>Reliance Jio</td>\n",
       "      <td>M</td>\n",
       "      <td>29</td>\n",
       "      <td>Bihar</td>\n",
       "      <td>Hyderabad</td>\n",
       "      <td>230636</td>\n",
       "      <td>2022-07-26</td>\n",
       "      <td>3</td>\n",
       "      <td>34272</td>\n",
       "      <td>95</td>\n",
       "      <td>32</td>\n",
       "      <td>10241</td>\n",
       "      <td>1</td>\n",
       "    </tr>\n",
       "    <tr>\n",
       "      <th>4</th>\n",
       "      <td>14016</td>\n",
       "      <td>Vodafone</td>\n",
       "      <td>M</td>\n",
       "      <td>45</td>\n",
       "      <td>Nagaland</td>\n",
       "      <td>Bangalore</td>\n",
       "      <td>188036</td>\n",
       "      <td>2020-03-11</td>\n",
       "      <td>4</td>\n",
       "      <td>34157</td>\n",
       "      <td>66</td>\n",
       "      <td>23</td>\n",
       "      <td>5246</td>\n",
       "      <td>1</td>\n",
       "    </tr>\n",
       "  </tbody>\n",
       "</table>\n",
       "</div>"
      ],
      "text/plain": [
       "   customer_id telecom_partner gender  age             state       city  \\\n",
       "0        15169          Airtel      F   26  Himachal Pradesh      Delhi   \n",
       "1       149207          Airtel      F   74       Uttarakhand  Hyderabad   \n",
       "2       148119          Airtel      F   54         Jharkhand    Chennai   \n",
       "3       187288    Reliance Jio      M   29             Bihar  Hyderabad   \n",
       "4        14016        Vodafone      M   45          Nagaland  Bangalore   \n",
       "\n",
       "   pincode registration_event  num_dependents  estimated_salary  calls_made  \\\n",
       "0   667173         2020-03-16               4             85979          75   \n",
       "1   313997         2022-01-16               0             69445          35   \n",
       "2   549925         2022-01-11               2             75949          70   \n",
       "3   230636         2022-07-26               3             34272          95   \n",
       "4   188036         2020-03-11               4             34157          66   \n",
       "\n",
       "   sms_sent  data_used  churn  \n",
       "0        21       4532      1  \n",
       "1        38        723      1  \n",
       "2        47       4688      1  \n",
       "3        32      10241      1  \n",
       "4        23       5246      1  "
      ]
     },
     "execution_count": 92,
     "metadata": {},
     "output_type": "execute_result"
    }
   ],
   "source": [
    "# Join Datasets \n",
    "churn_df = tel_demog.merge(tel_usea, on = \"customer_id\")\n",
    "\n",
    "# first five rows \"churn_df\"\n",
    "churn_df.head()"
   ]
  },
  {
   "cell_type": "code",
   "execution_count": 93,
   "id": "7a967602",
   "metadata": {},
   "outputs": [
    {
     "data": {
      "text/plain": [
       "0"
      ]
     },
     "execution_count": 93,
     "metadata": {},
     "output_type": "execute_result"
    }
   ],
   "source": [
    "# duplicated \n",
    "\n",
    "churn_df.duplicated().sum()"
   ]
  },
  {
   "cell_type": "code",
   "execution_count": 94,
   "id": "d117b93b",
   "metadata": {},
   "outputs": [
    {
     "data": {
      "text/plain": [
       "customer_id           0\n",
       "telecom_partner       0\n",
       "gender                0\n",
       "age                   0\n",
       "state                 0\n",
       "city                  0\n",
       "pincode               0\n",
       "registration_event    0\n",
       "num_dependents        0\n",
       "estimated_salary      0\n",
       "calls_made            0\n",
       "sms_sent              0\n",
       "data_used             0\n",
       "churn                 0\n",
       "dtype: int64"
      ]
     },
     "execution_count": 94,
     "metadata": {},
     "output_type": "execute_result"
    }
   ],
   "source": [
    "# missing value \n",
    "churn_df.isna().sum().sort_values()"
   ]
  },
  {
   "cell_type": "code",
   "execution_count": 17,
   "id": "31443e27",
   "metadata": {},
   "outputs": [
    {
     "name": "stdout",
     "output_type": "stream",
     "text": [
      "<class 'pandas.core.frame.DataFrame'>\n",
      "Int64Index: 6500 entries, 0 to 6499\n",
      "Data columns (total 14 columns):\n",
      " #   Column              Non-Null Count  Dtype \n",
      "---  ------              --------------  ----- \n",
      " 0   customer_id         6500 non-null   int64 \n",
      " 1   telecom_partner     6500 non-null   object\n",
      " 2   gender              6500 non-null   object\n",
      " 3   age                 6500 non-null   int64 \n",
      " 4   state               6500 non-null   object\n",
      " 5   city                6500 non-null   object\n",
      " 6   pincode             6500 non-null   int64 \n",
      " 7   registration_event  6500 non-null   object\n",
      " 8   num_dependents      6500 non-null   int64 \n",
      " 9   estimated_salary    6500 non-null   int64 \n",
      " 10  calls_made          6500 non-null   int64 \n",
      " 11  sms_sent            6500 non-null   int64 \n",
      " 12  data_used           6500 non-null   int64 \n",
      " 13  churn               6500 non-null   int64 \n",
      "dtypes: int64(9), object(5)\n",
      "memory usage: 761.7+ KB\n"
     ]
    }
   ],
   "source": [
    "# information\n",
    "churn_df.info()"
   ]
  },
  {
   "cell_type": "code",
   "execution_count": 95,
   "id": "37ce460f",
   "metadata": {},
   "outputs": [
    {
     "data": {
      "text/plain": [
       "0    0.799538\n",
       "1    0.200462\n",
       "Name: churn, dtype: float64"
      ]
     },
     "execution_count": 95,
     "metadata": {},
     "output_type": "execute_result"
    }
   ],
   "source": [
    "# Calculate Churn rate \n",
    "churn_rate= churn_df[\"churn\"].value_counts() / len(churn_df)\n",
    "churn_rate"
   ]
  },
  {
   "cell_type": "code",
   "execution_count": 96,
   "id": "47597920",
   "metadata": {
    "scrolled": true
   },
   "outputs": [
    {
     "data": {
      "text/plain": [
       "(6500, 1260)"
      ]
     },
     "execution_count": 96,
     "metadata": {},
     "output_type": "execute_result"
    }
   ],
   "source": [
    "churn_df= pd.get_dummies(churn_df, drop_first= True)\n",
    "churn_df.shape"
   ]
  },
  {
   "cell_type": "markdown",
   "id": "5df2d062",
   "metadata": {},
   "source": [
    "* Convert categorical features in churn_df into features_scaled. Perform feature scaling separating the appropriate features and scale them.  Define your scaled features and target variable for the churn prediction model."
   ]
  },
  {
   "cell_type": "code",
   "execution_count": 97,
   "id": "dd5350fb",
   "metadata": {},
   "outputs": [],
   "source": [
    "# Convert features Variabels\n",
    "features_vars= churn_df.drop(churn_df[[\"customer_id\", \"churn\"]], axis= 1).values\n",
    "\n",
    "#Convert target Variabel\n",
    "\n",
    "target_var= churn_df[\"churn\"].values"
   ]
  },
  {
   "cell_type": "code",
   "execution_count": 98,
   "id": "5da0e873",
   "metadata": {},
   "outputs": [],
   "source": [
    "# Perform feature scaling separating the appropriate features and scale them\n",
    "\n",
    "scaler = StandardScaler()\n",
    "\n",
    "features_scaled= scaler.fit_transform(features_vars)\n"
   ]
  },
  {
   "cell_type": "markdown",
   "id": "3814c9ae",
   "metadata": {},
   "source": [
    "* Split the processed data into training and testing sets giving names of X_train, X_test, y_train, and y_test using an 80-20 split, setting a random state of 42 for reproducibility."
   ]
  },
  {
   "cell_type": "code",
   "execution_count": 99,
   "id": "f0327e30",
   "metadata": {},
   "outputs": [],
   "source": [
    "# split Dataset  \n",
    "X_train ,X_test , y_train , y_test= train_test_split(features_scaled ,\n",
    "                                                      target_var, test_size= 0.2,\n",
    "                                                      random_state= 42) "
   ]
  },
  {
   "cell_type": "markdown",
   "id": "8dabbb04",
   "metadata": {},
   "source": [
    "* Train Logistic Regression and Random Forest Classifier models, setting a random seed of 42."
   ]
  },
  {
   "cell_type": "code",
   "execution_count": 100,
   "id": "ee31d274",
   "metadata": {},
   "outputs": [
    {
     "name": "stdout",
     "output_type": "stream",
     "text": [
      "[[920 107]\n",
      " [245  28]]\n",
      "              precision    recall  f1-score   support\n",
      "\n",
      "           0       0.79      0.90      0.84      1027\n",
      "           1       0.21      0.10      0.14       273\n",
      "\n",
      "    accuracy                           0.73      1300\n",
      "   macro avg       0.50      0.50      0.49      1300\n",
      "weighted avg       0.67      0.73      0.69      1300\n",
      "\n"
     ]
    }
   ],
   "source": [
    "#  Logistic Regression\n",
    "\n",
    "loges = LogisticRegression(random_state= 42 )\n",
    "\n",
    "# fit training data\n",
    "loges.fit(X_train, y_train)\n",
    "\n",
    "# Predict \n",
    "loges_pred= loges.predict(X_test)\n",
    "\n",
    "# confusion matrix \"Logistic Regression\"  \n",
    "confusion_marx_loges= confusion_matrix(y_test, loges_pred) \n",
    "print(confusion_marx)\n",
    "\n",
    "#Calssification Report \"Logistic Regression\"\n",
    "Classifi_repo_loges = classification_report(y_test, loges_pred)\n",
    "print(Classifi_repo_loges)\n"
   ]
  },
  {
   "cell_type": "code",
   "execution_count": null,
   "id": "bfc71614",
   "metadata": {},
   "outputs": [],
   "source": [
    "# Random Forests \n",
    "random_calss = RandomForestClassifier(random_state = 42)\n",
    "\n",
    "# fit trainig data \n",
    "random_calss.fit(X_train, y_train)\n",
    "\n",
    "#Predict\n",
    "random_class_pred =random_calss.predict(X_test)\n",
    "\n",
    "#confusion matrix \"Random Forest\"\n",
    "confusion_mat_randomfor= confusion_matrix(y_test,random_class_pred )\n",
    "print(confusion_mat_randomfor)\n",
    "\n",
    "# Calssification Report \"Random Forest\" \n",
    "classifi_repo_randf= classification_report(y_test,random_class_pred )\n",
    "print(classifi_repo_randf)"
   ]
  },
  {
   "cell_type": "code",
   "execution_count": null,
   "id": "94b6acb9",
   "metadata": {},
   "outputs": [],
   "source": []
  },
  {
   "cell_type": "code",
   "execution_count": null,
   "id": "0cee5b5f",
   "metadata": {},
   "outputs": [],
   "source": []
  },
  {
   "cell_type": "code",
   "execution_count": null,
   "id": "7e5bc0cb",
   "metadata": {},
   "outputs": [],
   "source": []
  },
  {
   "cell_type": "code",
   "execution_count": null,
   "id": "e50e0bc5",
   "metadata": {},
   "outputs": [],
   "source": []
  }
 ],
 "metadata": {
  "kernelspec": {
   "display_name": "Python 3 (ipykernel)",
   "language": "python",
   "name": "python3"
  },
  "language_info": {
   "codemirror_mode": {
    "name": "ipython",
    "version": 3
   },
   "file_extension": ".py",
   "mimetype": "text/x-python",
   "name": "python",
   "nbconvert_exporter": "python",
   "pygments_lexer": "ipython3",
   "version": "3.9.13"
  }
 },
 "nbformat": 4,
 "nbformat_minor": 5
}
